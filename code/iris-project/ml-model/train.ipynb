{
  "cells": [
    {
      "cell_type": "code",
      "execution_count": 1,
      "metadata": {
        "id": "9Oh4_nFG7M-g"
      },
      "outputs": [
        {
          "name": "stderr",
          "output_type": "stream",
          "text": [
            "/var/folders/vw/rptwys7j68lfdp94t00_zwsh0000gn/T/ipykernel_49783/2448436094.py:2: DeprecationWarning: \n",
            "Pyarrow will become a required dependency of pandas in the next major release of pandas (pandas 3.0),\n",
            "(to allow more performant data types, such as the Arrow string type, and better interoperability with other libraries)\n",
            "but was not found to be installed on your system.\n",
            "If this would cause problems for you,\n",
            "please provide us feedback at https://github.com/pandas-dev/pandas/issues/54466\n",
            "        \n",
            "  import pandas as pd\n"
          ]
        }
      ],
      "source": [
        "import matplotlib.pyplot as plt\n",
        "import pandas as pd\n",
        "from sklearn import metrics\n",
        "from sklearn.datasets import load_iris\n",
        "from sklearn.discriminant_analysis import (\n",
        "    LinearDiscriminantAnalysis,\n",
        "    QuadraticDiscriminantAnalysis,\n",
        ")\n",
        "from sklearn.linear_model import LogisticRegression\n",
        "from sklearn.model_selection import train_test_split\n",
        "from sklearn.naive_bayes import GaussianNB\n",
        "from sklearn.neighbors import KNeighborsClassifier\n",
        "from sklearn.svm import SVC\n",
        "from sklearn.tree import DecisionTreeClassifier\n",
        "import pickle\n",
        "from pathlib import Path\n",
        "\n"
      ]
    },
    {
      "cell_type": "code",
      "execution_count": 2,
      "metadata": {
        "id": "kXzKzczR9YJB"
      },
      "outputs": [],
      "source": [
        "MODELS_DIR = Path(\"models/\")\n",
        "SKLEARN_MODEL_PATH = MODELS_DIR.joinpath(\"sklearn/iris_model.pk\")\n",
        "TF_MODEL_PATH = MODELS_DIR.joinpath(\"tf/iris_model\")\n",
        "\n",
        "SKLEARN_MODEL_PATH.parent.mkdir(exist_ok=True, parents=True)\n",
        "TF_MODEL_PATH.parent.mkdir(exist_ok=True, parents=True)"
      ]
    },
    {
      "cell_type": "markdown",
      "metadata": {
        "id": "oe7h3ZGk6cUN"
      },
      "source": [
        "# Train model using sklearn"
      ]
    },
    {
      "cell_type": "code",
      "execution_count": 15,
      "metadata": {
        "colab": {
          "base_uri": "https://localhost:8080/",
          "height": 354
        },
        "id": "sf3mZQa16YaU",
        "outputId": "c9affc3d-c1d9-49e4-806a-4f10bbd2e857"
      },
      "outputs": [
        {
          "data": {
            "image/png": "[encoded data removed]",
            "text/plain": [
              "<Figure size 1000x500 with 1 Axes>"
            ]
          },
          "metadata": {},
          "output_type": "display_data"
        },
        {
          "name": "stdout",
          "output_type": "stream",
          "text": [
            "The best model is LDA with an accuracy of 1.00\n"
          ]
        }
      ],
      "source": [
        "\n",
        "# Load the iris dataset\n",
        "iris = load_iris()\n",
        "df = pd.DataFrame(iris.data, columns=iris.feature_names)\n",
        "df[\"target\"] = iris.target\n",
        "\n",
        "X, y = df.drop(\"target\", axis=1), df[\"target\"]\n",
        "\n",
        "# # Split the data into training and testing sets\n",
        "X_train, X_test, y_train, y_test = train_test_split(\n",
        "    X, y, test_size=0.2, random_state=42, stratify=y\n",
        ")\n",
        "\n",
        "# Create a list of classifiers\n",
        "models = {\n",
        "    \"Decision Tree\": DecisionTreeClassifier(max_depth=3, random_state=1),\n",
        "    \"Naive Bayes\": GaussianNB(),\n",
        "    \"LDA\": LinearDiscriminantAnalysis(),\n",
        "    \"QDA\": QuadraticDiscriminantAnalysis(),\n",
        "    \"KNN\": KNeighborsClassifier(),\n",
        "    \"SVM\": SVC(kernel=\"linear\"),\n",
        "    \"Logistic Regression\": LogisticRegression(),\n",
        "}\n",
        "\n",
        "# # Train the models\n",
        "results = {}\n",
        "for name, model in models.items():\n",
        "    model.fit(X_train, y_train)\n",
        "    y_pred = model.predict(X_test)\n",
        "    results[name] = metrics.accuracy_score(y_test, y_pred)\n",
        "\n",
        "# Plot results\n",
        "plt.figure(figsize=(10, 5))\n",
        "plt.bar(results.keys(), results.values())\n",
        "plt.title(\"Accuracy of different models\")\n",
        "plt.show()\n",
        "\n",
        "\n",
        "# Print results\n",
        "best_model = max(results, key=results.get)\n",
        "print(f\"The best model is {best_model} with an accuracy of {results[best_model]:.2f}\")\n",
        "\n",
        "# save the model to disk\n",
        "pickle.dump(\n",
        "    models[best_model], open(SKLEARN_MODEL_PATH, \"wb\")\n",
        ")  # export the model to a file so we can use it later\n"
      ]
    },
    {
      "cell_type": "markdown",
      "metadata": {
        "id": "dzRkKiE86g_B"
      },
      "source": [
        "# Train model using Tensorflow"
      ]
    },
    {
      "cell_type": "code",
      "execution_count": 17,
      "metadata": {
        "id": "2EArzHCs66ft"
      },
      "outputs": [
        {
          "name": "stderr",
          "output_type": "stream",
          "text": [
            "/Users/haruiz/Workspace/UAO-workspace/FullStack-AI-2024/code/iris-project/ml-model/.venv/lib/python3.10/site-packages/tqdm/auto.py:21: TqdmWarning: IProgress not found. Please update jupyter and ipywidgets. See https://ipywidgets.readthedocs.io/en/stable/user_install.html\n",
            "  from .autonotebook import tqdm as notebook_tqdm\n"
          ]
        }
      ],
      "source": [
        "import tensorflow as tf\n",
        "import os\n",
        "import matplotlib.pyplot as plt\n",
        "import tensorflow_datasets as tfds\n",
        "from pathlib import Path\n",
        "import numpy as np"
      ]
    },
    {
      "cell_type": "code",
      "execution_count": 18,
      "metadata": {},
      "outputs": [
        {
          "data": {
            "text/plain": [
              "[PhysicalDevice(name='/physical_device:GPU:0', device_type='GPU')]"
            ]
          },
          "execution_count": 18,
          "metadata": {},
          "output_type": "execute_result"
        }
      ],
      "source": [
        "tf.config.list_physical_devices('GPU')"
      ]
    },
    {
      "cell_type": "code",
      "execution_count": 19,
      "metadata": {
        "colab": {
          "base_uri": "https://localhost:8080/",
          "height": 117,
          "referenced_widgets": [
            "f8a561b25ef54f0f9bff2a7d167f1c40",
            "acefe11499aa48fe8af635e9bc486733",
            "ef6dcb2734204875bfc1f35bad3615d5",
            "474255116eae4346a15e4f924c96b1ac",
            "da9b4e1b26d04d2f89eb55dc2adb8434",
            "2f99649dbc92481bb46d6a7a5437f928",
            "1ee106674a074179a1a3076514c29506",
            "c18f463a693847a7a666d1522953e05d",
            "cf5414af35fe44c988653c425da45a25",
            "49f595b3a4ac47a1b30a92bc0f8499fe",
            "6344ea1aa87a418fa65ff4c79ee01c80",
            "05cd5e3e1dfb433d8bdc54247712be5b",
            "65f20160f0ac439f8c099c407c5b208b",
            "cf92f1241b7c485785d9f74cb94901f0",
            "9ab59e413b664210b94f456b693e028f",
            "6096e5b6f48c409d86ae1b5e27817602",
            "265872ab42f9446cb40cb0a6bc27cac1",
            "0576887a2ed444a1ba64cee303f365b2",
            "14a92cefd9c64fef80311cad4366fe5f",
            "078ffdb284574e3d985aa2bead35606c",
            "74fd4922308442b3a52b4ad1387899b8",
            "573d4115871448719c7fea919df02f50",
            "70d4ad3fc3de4c7eb67d2647f409a5a9",
            "b431b29b9fae4269921f50d0586b8f25",
            "bc3f6e8b660d4b7ba34f194b2c0930b7",
            "638f718bc20d4c6ea262aa370d6f2379",
            "2124669f90614ea3b17b0d0d56f29ee5",
            "69a592c543974e179caa87fde57071ae",
            "c06da8dfd74e4cb1a4cdf8839fcc5151",
            "b219dfe5b31f4a9c9a20c52c7a231c08",
            "8ade01f26f964e61b918e3c29c712c66",
            "72d22ca3f1024807ab2b00d45b856942",
            "167454253c3846b4b895a74434522d5a",
            "457843dd2aec4298bcc1b434e048ebe7",
            "44d6af65fd6044699dcdd10c60ff23de",
            "c849aa025eab48d6bdcb8dc611ba38b1",
            "c191b0f9bbe143278a1194a6adcbeae1",
            "8e26e8d6d63a44bfb305b1caca73b1e1",
            "5ecfdc446efa41978d641094c0661911",
            "7e2c9ab6033e4c5298c7ab43280fc78c",
            "dba0cd5855bf431280291c8becd41bc1",
            "bf778b6789714f7d9fa2f18f4556a56d",
            "a5b13bd86d0549d5b44b6ccfec93c16c",
            "c3eb554120a4480ebdb52fb6aec99d5b",
            "42e16b5d89014086858b348d8344a54b",
            "9fc1c335bd7c4dc1bc90ea80ad40baf3",
            "38795b30fc12440e9b46fca7f6836abd",
            "c43ec480c18348269ec422a10263cf6d",
            "ae592548ebdf41a2a54e10d3afcfd671",
            "7171783206524698b8c55ac1706df640",
            "14a10596670f480fb95211480aeaa14c",
            "47d53db15d3c4b76a6a6f8820aa99749",
            "5ccbb7d3277c40f884918f383330fcf6",
            "614469d9b7ef4004b8ad852bc73589cb",
            "138ddb274951469083a6e39f377b5093"
          ]
        },
        "id": "NDwtuxmF7Rrp",
        "outputId": "3d8c7b8b-e2e9-4b7f-a0c0-89a0a8937271"
      },
      "outputs": [
        {
          "name": "stderr",
          "output_type": "stream",
          "text": [
            "WARNING:absl:Found a different version of the requested dataset:\n",
            "2.0.0\n",
            "Using /Users/haruiz/tensorflow_datasets/iris/2.1.0 instead.\n",
            "2024-02-22 18:40:41.289152: W external/local_tsl/tsl/platform/cloud/google_auth_provider.cc:184] All attempts to get a Google authentication bearer token failed, returning an empty token. Retrieving token from files failed with \"NOT_FOUND: Could not locate the credentials file.\". Retrieving token from GCE failed with \"FAILED_PRECONDITION: Error executing an HTTP request: libcurl code 6 meaning 'Couldn't resolve host name', error details: Could not resolve host: metadata.google.internal\".\n"
          ]
        },
        {
          "name": "stdout",
          "output_type": "stream",
          "text": [
            "\u001b[1mDownloading and preparing dataset 3.65 KiB (download: 3.65 KiB, generated: 7.62 KiB, total: 11.27 KiB) to /Users/haruiz/tensorflow_datasets/iris/2.1.0...\u001b[0m\n"
          ]
        },
        {
          "name": "stderr",
          "output_type": "stream",
          "text": [
            "Dl Completed...: 0 url [00:00, ? url/s]\n",
            "Dl Completed...:   0%|          | 0/1 [00:00<?, ? url/s]\n",
            "Dl Completed...:   0%|          | 0/1 [00:00<?, ? url/s]\n",
            "Dl Completed...: 100%|██████████| 1/1 [00:00<00:00,  1.85 url/s]\n",
            "Dl Completed...: 100%|██████████| 1/1 [00:00<00:00,  1.81 url/s]\n",
            "Dl Completed...: 100%|██████████| 1/1 [00:00<00:00,  1.80 url/s]\n",
            "Dl Completed...: 100%|██████████| 1/1 [00:00<00:00,  1.79 url/s]\n",
            "Dl Completed...: 100%|██████████| 1/1 [00:00<00:00,  1.79 url/s]\n",
            "Dl Completed...: 100%|██████████| 1/1 [00:00<00:00,  1.78 url/s]\n",
            "Dl Completed...: 100%|██████████| 1/1 [00:00<00:00,  1.77 url/s]\n",
            "Dl Completed...: 100%|██████████| 1/1 [00:00<00:00,  1.77 url/s]\n",
            "Dl Completed...: 100%|██████████| 1/1 [00:00<00:00,  1.76 url/s]\n",
            "Extraction completed...: 100%|██████████| 4/4 [00:00<00:00,  7.06 file/s]\n",
            "Dl Size...: 0 MiB [00:00, ? MiB/s]\n",
            "Dl Completed...: 100%|██████████| 1/1 [00:00<00:00,  1.75 url/s]\n",
            "                                                                "
          ]
        },
        {
          "name": "stdout",
          "output_type": "stream",
          "text": [
            "\u001b[1mDataset iris downloaded and prepared to /Users/haruiz/tensorflow_datasets/iris/2.1.0. Subsequent calls will reuse this data.\u001b[0m\n"
          ]
        },
        {
          "name": "stderr",
          "output_type": "stream",
          "text": [
            "2024-02-22 18:40:44.155012: I metal_plugin/src/device/metal_device.cc:1154] Metal device set to: Apple M2 Max\n",
            "2024-02-22 18:40:44.155034: I metal_plugin/src/device/metal_device.cc:296] systemMemory: 64.00 GB\n",
            "2024-02-22 18:40:44.155042: I metal_plugin/src/device/metal_device.cc:313] maxCacheSize: 24.00 GB\n",
            "2024-02-22 18:40:44.155091: I tensorflow/core/common_runtime/pluggable_device/pluggable_device_factory.cc:306] Could not identify NUMA node of platform GPU ID 0, defaulting to 0. Your kernel may not have been built with NUMA support.\n",
            "2024-02-22 18:40:44.155125: I tensorflow/core/common_runtime/pluggable_device/pluggable_device_factory.cc:272] Created TensorFlow device (/job:localhost/replica:0/task:0/device:GPU:0 with 0 MB memory) -> physical PluggableDevice (device: 0, name: METAL, pci bus id: <undefined>)\n"
          ]
        }
      ],
      "source": [
        "train_dataset, metadata = tfds.load(\"iris\", with_info=True, as_supervised=True, split=\"train\", batch_size=32)\n",
        "num_examples = metadata.splits[\"train\"].num_examples\n",
        "num_classes = metadata.features[\"label\"].num_classes\n",
        "labels = metadata.features[\"label\"].names"
      ]
    },
    {
      "cell_type": "code",
      "execution_count": 20,
      "metadata": {},
      "outputs": [
        {
          "data": {
            "text/plain": [
              "150"
            ]
          },
          "execution_count": 20,
          "metadata": {},
          "output_type": "execute_result"
        }
      ],
      "source": [
        "num_examples"
      ]
    },
    {
      "cell_type": "code",
      "execution_count": 21,
      "metadata": {},
      "outputs": [
        {
          "data": {
            "text/plain": [
              "['Iris-setosa', 'Iris-versicolor', 'Iris-virginica']"
            ]
          },
          "execution_count": 21,
          "metadata": {},
          "output_type": "execute_result"
        }
      ],
      "source": [
        "labels"
      ]
    },
    {
      "cell_type": "code",
      "execution_count": 22,
      "metadata": {},
      "outputs": [
        {
          "data": {
            "text/plain": [
              "3"
            ]
          },
          "execution_count": 22,
          "metadata": {},
          "output_type": "execute_result"
        }
      ],
      "source": [
        "num_classes"
      ]
    },
    {
      "cell_type": "code",
      "execution_count": 23,
      "metadata": {
        "colab": {
          "base_uri": "https://localhost:8080/",
          "height": 279
        },
        "id": "OXmb2EeO7WWS",
        "outputId": "947c0b23-32dc-440e-85ff-8c0d1957479f"
      },
      "outputs": [
        {
          "name": "stderr",
          "output_type": "stream",
          "text": [
            "2024-02-22 18:41:00.095891: W tensorflow/core/kernels/data/cache_dataset_ops.cc:858] The calling iterator did not fully read the dataset being cached. In order to avoid unexpected truncation of the dataset, the partially cached contents of the dataset  will be discarded. This can happen if you have an input pipeline similar to `dataset.cache().take(k).repeat()`. You should use `dataset.take(k).cache().repeat()` instead.\n"
          ]
        },
        {
          "name": "stdout",
          "output_type": "stream",
          "text": [
            "(32, 4)\n"
          ]
        },
        {
          "data": {
            "image/png": "[encoded data removed]",
            "text/plain": [
              "<Figure size 640x480 with 1 Axes>"
            ]
          },
          "metadata": {},
          "output_type": "display_data"
        }
      ],
      "source": [
        "features, labels = next(iter(train_dataset))\n",
        "sepal_length = features[:,0]\n",
        "sepal_width = features[:,1]\n",
        "print(features.shape)\n",
        "\n",
        "plt.scatter(sepal_length,\n",
        "            sepal_width,\n",
        "            c=labels,\n",
        "            cmap='viridis')\n",
        "plt.xlabel(\"Sepal length\")\n",
        "plt.ylabel(\"Sepal Width\")\n",
        "plt.show()"
      ]
    },
    {
      "cell_type": "code",
      "execution_count": 24,
      "metadata": {
        "id": "3GuykYfa7Yrs"
      },
      "outputs": [],
      "source": [
        "model = tf.keras.Sequential([\n",
        "  tf.keras.layers.Dense(10, activation=tf.nn.relu, input_shape=(4,), name= \"input\"), \n",
        "  tf.keras.layers.Dense(5, activation=tf.nn.relu),\n",
        "  tf.keras.layers.BatchNormalization(),\n",
        "  tf.keras.layers.Dense(3, activation=tf.nn.softmax, name=\"output\")\n",
        "])"
      ]
    },
    {
      "cell_type": "code",
      "execution_count": 25,
      "metadata": {},
      "outputs": [
        {
          "name": "stdout",
          "output_type": "stream",
          "text": [
            "Model: \"sequential\"\n",
            "_________________________________________________________________\n",
            " Layer (type)                Output Shape              Param #   \n",
            "=================================================================\n",
            " input (Dense)               (None, 10)                50        \n",
            "                                                                 \n",
            " dense (Dense)               (None, 5)                 55        \n",
            "                                                                 \n",
            " batch_normalization (Batch  (None, 5)                 20        \n",
            " Normalization)                                                  \n",
            "                                                                 \n",
            " output (Dense)              (None, 3)                 18        \n",
            "                                                                 \n",
            "=================================================================\n",
            "Total params: 143 (572.00 Byte)\n",
            "Trainable params: 133 (532.00 Byte)\n",
            "Non-trainable params: 10 (40.00 Byte)\n",
            "_________________________________________________________________\n"
          ]
        }
      ],
      "source": [
        "model.summary()"
      ]
    },
    {
      "cell_type": "code",
      "execution_count": 26,
      "metadata": {
        "colab": {
          "base_uri": "https://localhost:8080/",
          "height": 1000
        },
        "id": "-hQVMn5Z7bAx",
        "outputId": "d0488a54-18db-472c-d248-93168304abb9"
      },
      "outputs": [
        {
          "name": "stderr",
          "output_type": "stream",
          "text": [
            "WARNING:absl:At this time, the v2.11+ optimizer `tf.keras.optimizers.Adam` runs slowly on M1/M2 Macs, please use the legacy Keras optimizer instead, located at `tf.keras.optimizers.legacy.Adam`.\n"
          ]
        },
        {
          "name": "stdout",
          "output_type": "stream",
          "text": [
            "Epoch 1/50\n"
          ]
        },
        {
          "name": "stderr",
          "output_type": "stream",
          "text": [
            "2024-02-22 18:51:18.145573: I tensorflow/core/grappler/optimizers/custom_graph_optimizer_registry.cc:117] Plugin optimizer for device_type GPU is enabled.\n",
            "2024-02-22 18:51:18.176496: E tensorflow/core/grappler/optimizers/meta_optimizer.cc:961] model_pruner failed: INVALID_ARGUMENT: Graph does not contain terminal node Adam/AssignAddVariableOp.\n"
          ]
        },
        {
          "name": "stdout",
          "output_type": "stream",
          "text": [
            "5/5 [==============================] - 4s 170ms/step - loss: 1.0441 - accuracy: 0.4867\n",
            "Epoch 2/50\n",
            "5/5 [==============================] - 0s 10ms/step - loss: 1.0125 - accuracy: 0.5200\n",
            "Epoch 3/50\n",
            "5/5 [==============================] - 0s 9ms/step - loss: 0.9829 - accuracy: 0.5667\n",
            "Epoch 4/50\n",
            "5/5 [==============================] - 0s 8ms/step - loss: 0.9553 - accuracy: 0.5667\n",
            "Epoch 5/50\n",
            "5/5 [==============================] - 0s 8ms/step - loss: 0.9296 - accuracy: 0.5800\n",
            "Epoch 6/50\n",
            "5/5 [==============================] - 0s 8ms/step - loss: 0.9056 - accuracy: 0.5800\n",
            "Epoch 7/50\n",
            "5/5 [==============================] - 0s 8ms/step - loss: 0.8832 - accuracy: 0.6000\n",
            "Epoch 8/50\n",
            "5/5 [==============================] - 0s 8ms/step - loss: 0.8622 - accuracy: 0.6133\n",
            "Epoch 9/50\n",
            "5/5 [==============================] - 0s 8ms/step - loss: 0.8424 - accuracy: 0.6133\n",
            "Epoch 10/50\n",
            "5/5 [==============================] - 0s 8ms/step - loss: 0.8239 - accuracy: 0.6267\n",
            "Epoch 11/50\n",
            "5/5 [==============================] - 0s 8ms/step - loss: 0.8064 - accuracy: 0.6333\n",
            "Epoch 12/50\n",
            "5/5 [==============================] - 0s 8ms/step - loss: 0.7900 - accuracy: 0.6600\n",
            "Epoch 13/50\n",
            "5/5 [==============================] - 0s 7ms/step - loss: 0.7744 - accuracy: 0.6867\n",
            "Epoch 14/50\n",
            "5/5 [==============================] - 0s 8ms/step - loss: 0.7596 - accuracy: 0.6867\n",
            "Epoch 15/50\n",
            "5/5 [==============================] - 0s 8ms/step - loss: 0.7456 - accuracy: 0.7000\n",
            "Epoch 16/50\n",
            "5/5 [==============================] - 0s 8ms/step - loss: 0.7322 - accuracy: 0.7000\n",
            "Epoch 17/50\n",
            "5/5 [==============================] - 0s 8ms/step - loss: 0.7195 - accuracy: 0.7133\n",
            "Epoch 18/50\n",
            "5/5 [==============================] - 0s 8ms/step - loss: 0.7074 - accuracy: 0.7267\n",
            "Epoch 19/50\n",
            "5/5 [==============================] - 0s 8ms/step - loss: 0.6959 - accuracy: 0.7333\n",
            "Epoch 20/50\n",
            "5/5 [==============================] - 0s 8ms/step - loss: 0.6850 - accuracy: 0.7400\n",
            "Epoch 21/50\n",
            "5/5 [==============================] - 0s 8ms/step - loss: 0.6748 - accuracy: 0.7600\n",
            "Epoch 22/50\n",
            "5/5 [==============================] - 0s 8ms/step - loss: 0.6651 - accuracy: 0.7600\n",
            "Epoch 23/50\n",
            "5/5 [==============================] - 0s 8ms/step - loss: 0.6560 - accuracy: 0.7733\n",
            "Epoch 24/50\n",
            "5/5 [==============================] - 0s 8ms/step - loss: 0.6474 - accuracy: 0.7733\n",
            "Epoch 25/50\n",
            "5/5 [==============================] - 0s 8ms/step - loss: 0.6393 - accuracy: 0.7733\n",
            "Epoch 26/50\n",
            "5/5 [==============================] - 0s 8ms/step - loss: 0.6316 - accuracy: 0.7733\n",
            "Epoch 27/50\n",
            "5/5 [==============================] - 0s 8ms/step - loss: 0.6243 - accuracy: 0.7733\n",
            "Epoch 28/50\n",
            "5/5 [==============================] - 0s 8ms/step - loss: 0.6173 - accuracy: 0.7800\n",
            "Epoch 29/50\n",
            "5/5 [==============================] - 0s 8ms/step - loss: 0.6106 - accuracy: 0.7800\n",
            "Epoch 30/50\n",
            "5/5 [==============================] - 0s 8ms/step - loss: 0.6042 - accuracy: 0.7867\n",
            "Epoch 31/50\n",
            "5/5 [==============================] - 0s 8ms/step - loss: 0.5980 - accuracy: 0.7867\n",
            "Epoch 32/50\n",
            "5/5 [==============================] - 0s 8ms/step - loss: 0.5920 - accuracy: 0.7933\n",
            "Epoch 33/50\n",
            "5/5 [==============================] - 0s 8ms/step - loss: 0.5862 - accuracy: 0.7933\n",
            "Epoch 34/50\n",
            "5/5 [==============================] - 0s 8ms/step - loss: 0.5807 - accuracy: 0.7933\n",
            "Epoch 35/50\n",
            "5/5 [==============================] - 0s 8ms/step - loss: 0.5752 - accuracy: 0.7933\n",
            "Epoch 36/50\n",
            "5/5 [==============================] - 0s 8ms/step - loss: 0.5699 - accuracy: 0.8000\n",
            "Epoch 37/50\n",
            "5/5 [==============================] - 0s 8ms/step - loss: 0.5646 - accuracy: 0.8067\n",
            "Epoch 38/50\n",
            "5/5 [==============================] - 0s 8ms/step - loss: 0.5595 - accuracy: 0.8067\n",
            "Epoch 39/50\n",
            "5/5 [==============================] - 0s 8ms/step - loss: 0.5544 - accuracy: 0.8067\n",
            "Epoch 40/50\n",
            "5/5 [==============================] - 0s 8ms/step - loss: 0.5495 - accuracy: 0.8067\n",
            "Epoch 41/50\n",
            "5/5 [==============================] - 0s 9ms/step - loss: 0.5448 - accuracy: 0.8067\n",
            "Epoch 42/50\n",
            "5/5 [==============================] - 0s 8ms/step - loss: 0.5401 - accuracy: 0.8067\n",
            "Epoch 43/50\n",
            "5/5 [==============================] - 0s 8ms/step - loss: 0.5356 - accuracy: 0.8067\n",
            "Epoch 44/50\n",
            "5/5 [==============================] - 0s 8ms/step - loss: 0.5311 - accuracy: 0.8133\n",
            "Epoch 45/50\n",
            "5/5 [==============================] - 0s 8ms/step - loss: 0.5267 - accuracy: 0.8133\n",
            "Epoch 46/50\n",
            "5/5 [==============================] - 0s 8ms/step - loss: 0.5224 - accuracy: 0.8133\n",
            "Epoch 47/50\n",
            "5/5 [==============================] - 0s 8ms/step - loss: 0.5182 - accuracy: 0.8200\n",
            "Epoch 48/50\n",
            "5/5 [==============================] - 0s 8ms/step - loss: 0.5141 - accuracy: 0.8200\n",
            "Epoch 49/50\n",
            "5/5 [==============================] - 0s 8ms/step - loss: 0.5100 - accuracy: 0.8200\n",
            "Epoch 50/50\n",
            "5/5 [==============================] - 0s 8ms/step - loss: 0.5060 - accuracy: 0.8200\n"
          ]
        },
        {
          "data": {
            "image/png": "[encoded data removed]",
            "text/plain": [
              "<Figure size 1000x300 with 2 Axes>"
            ]
          },
          "metadata": {},
          "output_type": "display_data"
        }
      ],
      "source": [
        "loss_fun = tf.keras.losses.SparseCategoricalCrossentropy()\n",
        "opt_fun = tf.keras.optimizers.Adam()\n",
        "model.compile(optimizer=opt_fun, loss=loss_fun, metrics=['accuracy'] )\n",
        "history = model.fit(train_dataset, batch_size=12, epochs=50)\n",
        "\n",
        "acc = history.history['accuracy']\n",
        "loss = history.history['loss']\n",
        "plt.figure(figsize=(10, 3))\n",
        "ax = plt.subplot(1, 2, 1)\n",
        "ax.set_title(\"Training Loss\")\n",
        "ax.plot(loss)\n",
        "ax = plt.subplot(1, 2, 2)\n",
        "ax.set_title(\"Training Accuracy\")\n",
        "ax.plot(acc)\n",
        "plt.show()"
      ]
    },
    {
      "cell_type": "code",
      "execution_count": 27,
      "metadata": {
        "colab": {
          "base_uri": "https://localhost:8080/"
        },
        "id": "CkX82cvF7eLx",
        "outputId": "7badc9d5-d66c-4f29-c711-093d6c855102"
      },
      "outputs": [
        {
          "name": "stdout",
          "output_type": "stream",
          "text": [
            "1/1 [==============================] - 1s 663ms/step\n"
          ]
        }
      ],
      "source": [
        "predictions = model.predict([[0.5, 0.4, 0.8, 0.4]])"
      ]
    },
    {
      "cell_type": "code",
      "execution_count": 28,
      "metadata": {},
      "outputs": [
        {
          "data": {
            "text/plain": [
              "array([[0.00579161, 0.9900883 , 0.00412009]], dtype=float32)"
            ]
          },
          "execution_count": 28,
          "metadata": {},
          "output_type": "execute_result"
        }
      ],
      "source": [
        "predictions"
      ]
    },
    {
      "cell_type": "code",
      "execution_count": 29,
      "metadata": {
        "id": "YVogT-2Z7iMl"
      },
      "outputs": [
        {
          "name": "stdout",
          "output_type": "stream",
          "text": [
            "INFO:tensorflow:Assets written to: models/tf/iris_model/assets\n"
          ]
        },
        {
          "name": "stderr",
          "output_type": "stream",
          "text": [
            "INFO:tensorflow:Assets written to: models/tf/iris_model/assets\n"
          ]
        }
      ],
      "source": [
        "model.save(TF_MODEL_PATH, save_format=\"tf\")"
      ]
    },
    {
      "cell_type": "code",
      "execution_count": null,
      "metadata": {
        "id": "k_TRNLKZ7sFB"
      },
      "outputs": [],
      "source": [
        "import shutil\n",
        "from pathlib import Path\n",
        "from google.colab import files\n",
        "import sys\n",
        "\n",
        "def folder_to_zip(folder_path):\n",
        "    folder_path = Path(folder_path)\n",
        "    if not folder_path.exists():\n",
        "        return\n",
        "    shutil.make_archive(folder_path.name, 'zip', folder_path)\n",
        "    return folder_path.with_suffix(\".zip\")\n",
        "\n",
        "def zip_and_download_folder_content(model_folder):\n",
        "    zip_file = folder_to_zip(model_folder)\n",
        "    files.download(zip_file)\n",
        "\n"
      ]
    },
    {
      "cell_type": "code",
      "execution_count": null,
      "metadata": {
        "colab": {
          "base_uri": "https://localhost:8080/",
          "height": 17
        },
        "id": "Ab5zPSNH7wCi",
        "outputId": "df49fbcc-70b2-4dcf-d808-be18af148ca7"
      },
      "outputs": [
        {
          "data": {
            "application/javascript": "\n    async function download(id, filename, size) {\n      if (!google.colab.kernel.accessAllowed) {\n        return;\n      }\n      const div = document.createElement('div');\n      const label = document.createElement('label');\n      label.textContent = `Downloading \"${filename}\": `;\n      div.appendChild(label);\n      const progress = document.createElement('progress');\n      progress.max = size;\n      div.appendChild(progress);\n      document.body.appendChild(div);\n\n      const buffers = [];\n      let downloaded = 0;\n\n      const channel = await google.colab.kernel.comms.open(id);\n      // Send a message to notify the kernel that we're ready.\n      channel.send({})\n\n      for await (const message of channel.messages) {\n        // Send a message to notify the kernel that we're ready.\n        channel.send({})\n        if (message.buffers) {\n          for (const buffer of message.buffers) {\n            buffers.push(buffer);\n            downloaded += buffer.byteLength;\n            progress.value = downloaded;\n          }\n        }\n      }\n      const blob = new Blob(buffers, {type: 'application/binary'});\n      const a = document.createElement('a');\n      a.href = window.URL.createObjectURL(blob);\n      a.download = filename;\n      div.appendChild(a);\n      a.click();\n      div.remove();\n    }\n  ",
            "text/plain": [
              "<IPython.core.display.Javascript object>"
            ]
          },
          "metadata": {},
          "output_type": "display_data"
        },
        {
          "data": {
            "application/javascript": "download(\"download_9280dec0-1f09-4314-8229-4e94ced44523\", \"models.zip\", 23714)",
            "text/plain": [
              "<IPython.core.display.Javascript object>"
            ]
          },
          "metadata": {},
          "output_type": "display_data"
        }
      ],
      "source": [
        "zip_and_download_folder_content(MODELS_DIR)"
      ]
    }
  ],
  "metadata": {
    "colab": {
      "provenance": []
    },
    "kernelspec": {
      "display_name": "Python 3",
      "name": "python3"
    },
    "language_info": {
      "codemirror_mode": {
        "name": "ipython",
        "version": 3
      },
      "file_extension": ".py",
      "mimetype": "text/x-python",
      "name": "python",
      "nbconvert_exporter": "python",
      "pygments_lexer": "ipython3",
      "version": "3.10.9"
    },
    "widgets": {
      "application/vnd.jupyter.widget-state+json": {
        "0576887a2ed444a1ba64cee303f365b2": {
          "model_module": "@jupyter-widgets/controls",
          "model_module_version": "1.5.0",
          "model_name": "DescriptionStyleModel",
          "state": {
            "_model_module": "@jupyter-widgets/controls",
            "_model_module_version": "1.5.0",
            "_model_name": "DescriptionStyleModel",
            "_view_count": null,
            "_view_module": "@jupyter-widgets/base",
            "_view_module_version": "1.2.0",
            "_view_name": "StyleView",
            "description_width": ""
          }
        },
        "05cd5e3e1dfb433d8bdc54247712be5b": {
          "model_module": "@jupyter-widgets/controls",
          "model_module_version": "1.5.0",
          "model_name": "HBoxModel",
          "state": {
            "_dom_classes": [],
            "_model_module": "@jupyter-widgets/controls",
            "_model_module_version": "1.5.0",
            "_model_name": "HBoxModel",
            "_view_count": null,
            "_view_module": "@jupyter-widgets/controls",
            "_view_module_version": "1.5.0",
            "_view_name": "HBoxView",
            "box_style": "",
            "children": [
              "IPY_MODEL_65f20160f0ac439f8c099c407c5b208b",
              "IPY_MODEL_cf92f1241b7c485785d9f74cb94901f0",
              "IPY_MODEL_9ab59e413b664210b94f456b693e028f"
            ],
            "layout": "IPY_MODEL_6096e5b6f48c409d86ae1b5e27817602"
          }
        },
        "078ffdb284574e3d985aa2bead35606c": {
          "model_module": "@jupyter-widgets/controls",
          "model_module_version": "1.5.0",
          "model_name": "ProgressStyleModel",
          "state": {
            "_model_module": "@jupyter-widgets/controls",
            "_model_module_version": "1.5.0",
            "_model_name": "ProgressStyleModel",
            "_view_count": null,
            "_view_module": "@jupyter-widgets/base",
            "_view_module_version": "1.2.0",
            "_view_name": "StyleView",
            "bar_color": null,
            "description_width": ""
          }
        },
        "138ddb274951469083a6e39f377b5093": {
          "model_module": "@jupyter-widgets/controls",
          "model_module_version": "1.5.0",
          "model_name": "DescriptionStyleModel",
          "state": {
            "_model_module": "@jupyter-widgets/controls",
            "_model_module_version": "1.5.0",
            "_model_name": "DescriptionStyleModel",
            "_view_count": null,
            "_view_module": "@jupyter-widgets/base",
            "_view_module_version": "1.2.0",
            "_view_name": "StyleView",
            "description_width": ""
          }
        },
        "14a10596670f480fb95211480aeaa14c": {
          "model_module": "@jupyter-widgets/controls",
          "model_module_version": "1.5.0",
          "model_name": "DescriptionStyleModel",
          "state": {
            "_model_module": "@jupyter-widgets/controls",
            "_model_module_version": "1.5.0",
            "_model_name": "DescriptionStyleModel",
            "_view_count": null,
            "_view_module": "@jupyter-widgets/base",
            "_view_module_version": "1.2.0",
            "_view_name": "StyleView",
            "description_width": ""
          }
        },
        "14a92cefd9c64fef80311cad4366fe5f": {
          "model_module": "@jupyter-widgets/base",
          "model_module_version": "1.2.0",
          "model_name": "LayoutModel",
          "state": {
            "_model_module": "@jupyter-widgets/base",
            "_model_module_version": "1.2.0",
            "_model_name": "LayoutModel",
            "_view_count": null,
            "_view_module": "@jupyter-widgets/base",
            "_view_module_version": "1.2.0",
            "_view_name": "LayoutView",
            "align_content": null,
            "align_items": null,
            "align_self": null,
            "border": null,
            "bottom": null,
            "display": null,
            "flex": null,
            "flex_flow": null,
            "grid_area": null,
            "grid_auto_columns": null,
            "grid_auto_flow": null,
            "grid_auto_rows": null,
            "grid_column": null,
            "grid_gap": null,
            "grid_row": null,
            "grid_template_areas": null,
            "grid_template_columns": null,
            "grid_template_rows": null,
            "height": null,
            "justify_content": null,
            "justify_items": null,
            "left": null,
            "margin": null,
            "max_height": null,
            "max_width": null,
            "min_height": null,
            "min_width": null,
            "object_fit": null,
            "object_position": null,
            "order": null,
            "overflow": null,
            "overflow_x": null,
            "overflow_y": null,
            "padding": null,
            "right": null,
            "top": null,
            "visibility": null,
            "width": "20px"
          }
        },
        "167454253c3846b4b895a74434522d5a": {
          "model_module": "@jupyter-widgets/controls",
          "model_module_version": "1.5.0",
          "model_name": "DescriptionStyleModel",
          "state": {
            "_model_module": "@jupyter-widgets/controls",
            "_model_module_version": "1.5.0",
            "_model_name": "DescriptionStyleModel",
            "_view_count": null,
            "_view_module": "@jupyter-widgets/base",
            "_view_module_version": "1.2.0",
            "_view_name": "StyleView",
            "description_width": ""
          }
        },
        "1ee106674a074179a1a3076514c29506": {
          "model_module": "@jupyter-widgets/controls",
          "model_module_version": "1.5.0",
          "model_name": "DescriptionStyleModel",
          "state": {
            "_model_module": "@jupyter-widgets/controls",
            "_model_module_version": "1.5.0",
            "_model_name": "DescriptionStyleModel",
            "_view_count": null,
            "_view_module": "@jupyter-widgets/base",
            "_view_module_version": "1.2.0",
            "_view_name": "StyleView",
            "description_width": ""
          }
        },
        "2124669f90614ea3b17b0d0d56f29ee5": {
          "model_module": "@jupyter-widgets/base",
          "model_module_version": "1.2.0",
          "model_name": "LayoutModel",
          "state": {
            "_model_module": "@jupyter-widgets/base",
            "_model_module_version": "1.2.0",
            "_model_name": "LayoutModel",
            "_view_count": null,
            "_view_module": "@jupyter-widgets/base",
            "_view_module_version": "1.2.0",
            "_view_name": "LayoutView",
            "align_content": null,
            "align_items": null,
            "align_self": null,
            "border": null,
            "bottom": null,
            "display": null,
            "flex": null,
            "flex_flow": null,
            "grid_area": null,
            "grid_auto_columns": null,
            "grid_auto_flow": null,
            "grid_auto_rows": null,
            "grid_column": null,
            "grid_gap": null,
            "grid_row": null,
            "grid_template_areas": null,
            "grid_template_columns": null,
            "grid_template_rows": null,
            "height": null,
            "justify_content": null,
            "justify_items": null,
            "left": null,
            "margin": null,
            "max_height": null,
            "max_width": null,
            "min_height": null,
            "min_width": null,
            "object_fit": null,
            "object_position": null,
            "order": null,
            "overflow": null,
            "overflow_x": null,
            "overflow_y": null,
            "padding": null,
            "right": null,
            "top": null,
            "visibility": "hidden",
            "width": null
          }
        },
        "265872ab42f9446cb40cb0a6bc27cac1": {
          "model_module": "@jupyter-widgets/base",
          "model_module_version": "1.2.0",
          "model_name": "LayoutModel",
          "state": {
            "_model_module": "@jupyter-widgets/base",
            "_model_module_version": "1.2.0",
            "_model_name": "LayoutModel",
            "_view_count": null,
            "_view_module": "@jupyter-widgets/base",
            "_view_module_version": "1.2.0",
            "_view_name": "LayoutView",
            "align_content": null,
            "align_items": null,
            "align_self": null,
            "border": null,
            "bottom": null,
            "display": null,
            "flex": null,
            "flex_flow": null,
            "grid_area": null,
            "grid_auto_columns": null,
            "grid_auto_flow": null,
            "grid_auto_rows": null,
            "grid_column": null,
            "grid_gap": null,
            "grid_row": null,
            "grid_template_areas": null,
            "grid_template_columns": null,
            "grid_template_rows": null,
            "height": null,
            "justify_content": null,
            "justify_items": null,
            "left": null,
            "margin": null,
            "max_height": null,
            "max_width": null,
            "min_height": null,
            "min_width": null,
            "object_fit": null,
            "object_position": null,
            "order": null,
            "overflow": null,
            "overflow_x": null,
            "overflow_y": null,
            "padding": null,
            "right": null,
            "top": null,
            "visibility": null,
            "width": null
          }
        },
        "2f99649dbc92481bb46d6a7a5437f928": {
          "model_module": "@jupyter-widgets/base",
          "model_module_version": "1.2.0",
          "model_name": "LayoutModel",
          "state": {
            "_model_module": "@jupyter-widgets/base",
            "_model_module_version": "1.2.0",
            "_model_name": "LayoutModel",
            "_view_count": null,
            "_view_module": "@jupyter-widgets/base",
            "_view_module_version": "1.2.0",
            "_view_name": "LayoutView",
            "align_content": null,
            "align_items": null,
            "align_self": null,
            "border": null,
            "bottom": null,
            "display": null,
            "flex": null,
            "flex_flow": null,
            "grid_area": null,
            "grid_auto_columns": null,
            "grid_auto_flow": null,
            "grid_auto_rows": null,
            "grid_column": null,
            "grid_gap": null,
            "grid_row": null,
            "grid_template_areas": null,
            "grid_template_columns": null,
            "grid_template_rows": null,
            "height": null,
            "justify_content": null,
            "justify_items": null,
            "left": null,
            "margin": null,
            "max_height": null,
            "max_width": null,
            "min_height": null,
            "min_width": null,
            "object_fit": null,
            "object_position": null,
            "order": null,
            "overflow": null,
            "overflow_x": null,
            "overflow_y": null,
            "padding": null,
            "right": null,
            "top": null,
            "visibility": null,
            "width": null
          }
        },
        "38795b30fc12440e9b46fca7f6836abd": {
          "model_module": "@jupyter-widgets/controls",
          "model_module_version": "1.5.0",
          "model_name": "FloatProgressModel",
          "state": {
            "_dom_classes": [],
            "_model_module": "@jupyter-widgets/controls",
            "_model_module_version": "1.5.0",
            "_model_name": "FloatProgressModel",
            "_view_count": null,
            "_view_module": "@jupyter-widgets/controls",
            "_view_module_version": "1.5.0",
            "_view_name": "ProgressView",
            "bar_style": "",
            "description": "",
            "description_tooltip": null,
            "layout": "IPY_MODEL_47d53db15d3c4b76a6a6f8820aa99749",
            "max": 150,
            "min": 0,
            "orientation": "horizontal",
            "style": "IPY_MODEL_5ccbb7d3277c40f884918f383330fcf6",
            "value": 150
          }
        },
        "42e16b5d89014086858b348d8344a54b": {
          "model_module": "@jupyter-widgets/controls",
          "model_module_version": "1.5.0",
          "model_name": "HBoxModel",
          "state": {
            "_dom_classes": [],
            "_model_module": "@jupyter-widgets/controls",
            "_model_module_version": "1.5.0",
            "_model_name": "HBoxModel",
            "_view_count": null,
            "_view_module": "@jupyter-widgets/controls",
            "_view_module_version": "1.5.0",
            "_view_name": "HBoxView",
            "box_style": "",
            "children": [
              "IPY_MODEL_9fc1c335bd7c4dc1bc90ea80ad40baf3",
              "IPY_MODEL_38795b30fc12440e9b46fca7f6836abd",
              "IPY_MODEL_c43ec480c18348269ec422a10263cf6d"
            ],
            "layout": "IPY_MODEL_ae592548ebdf41a2a54e10d3afcfd671"
          }
        },
        "44d6af65fd6044699dcdd10c60ff23de": {
          "model_module": "@jupyter-widgets/controls",
          "model_module_version": "1.5.0",
          "model_name": "HTMLModel",
          "state": {
            "_dom_classes": [],
            "_model_module": "@jupyter-widgets/controls",
            "_model_module_version": "1.5.0",
            "_model_name": "HTMLModel",
            "_view_count": null,
            "_view_module": "@jupyter-widgets/controls",
            "_view_module_version": "1.5.0",
            "_view_name": "HTMLView",
            "description": "",
            "description_tooltip": null,
            "layout": "IPY_MODEL_5ecfdc446efa41978d641094c0661911",
            "placeholder": "​",
            "style": "IPY_MODEL_7e2c9ab6033e4c5298c7ab43280fc78c",
            "value": "Generating train examples...:   0%"
          }
        },
        "457843dd2aec4298bcc1b434e048ebe7": {
          "model_module": "@jupyter-widgets/controls",
          "model_module_version": "1.5.0",
          "model_name": "HBoxModel",
          "state": {
            "_dom_classes": [],
            "_model_module": "@jupyter-widgets/controls",
            "_model_module_version": "1.5.0",
            "_model_name": "HBoxModel",
            "_view_count": null,
            "_view_module": "@jupyter-widgets/controls",
            "_view_module_version": "1.5.0",
            "_view_name": "HBoxView",
            "box_style": "",
            "children": [
              "IPY_MODEL_44d6af65fd6044699dcdd10c60ff23de",
              "IPY_MODEL_c849aa025eab48d6bdcb8dc611ba38b1",
              "IPY_MODEL_c191b0f9bbe143278a1194a6adcbeae1"
            ],
            "layout": "IPY_MODEL_8e26e8d6d63a44bfb305b1caca73b1e1"
          }
        },
        "474255116eae4346a15e4f924c96b1ac": {
          "model_module": "@jupyter-widgets/controls",
          "model_module_version": "1.5.0",
          "model_name": "HTMLModel",
          "state": {
            "_dom_classes": [],
            "_model_module": "@jupyter-widgets/controls",
            "_model_module_version": "1.5.0",
            "_model_name": "HTMLModel",
            "_view_count": null,
            "_view_module": "@jupyter-widgets/controls",
            "_view_module_version": "1.5.0",
            "_view_name": "HTMLView",
            "description": "",
            "description_tooltip": null,
            "layout": "IPY_MODEL_49f595b3a4ac47a1b30a92bc0f8499fe",
            "placeholder": "​",
            "style": "IPY_MODEL_6344ea1aa87a418fa65ff4c79ee01c80",
            "value": " 1/1 [00:00&lt;00:00,  3.63 url/s]"
          }
        },
        "47d53db15d3c4b76a6a6f8820aa99749": {
          "model_module": "@jupyter-widgets/base",
          "model_module_version": "1.2.0",
          "model_name": "LayoutModel",
          "state": {
            "_model_module": "@jupyter-widgets/base",
            "_model_module_version": "1.2.0",
            "_model_name": "LayoutModel",
            "_view_count": null,
            "_view_module": "@jupyter-widgets/base",
            "_view_module_version": "1.2.0",
            "_view_name": "LayoutView",
            "align_content": null,
            "align_items": null,
            "align_self": null,
            "border": null,
            "bottom": null,
            "display": null,
            "flex": null,
            "flex_flow": null,
            "grid_area": null,
            "grid_auto_columns": null,
            "grid_auto_flow": null,
            "grid_auto_rows": null,
            "grid_column": null,
            "grid_gap": null,
            "grid_row": null,
            "grid_template_areas": null,
            "grid_template_columns": null,
            "grid_template_rows": null,
            "height": null,
            "justify_content": null,
            "justify_items": null,
            "left": null,
            "margin": null,
            "max_height": null,
            "max_width": null,
            "min_height": null,
            "min_width": null,
            "object_fit": null,
            "object_position": null,
            "order": null,
            "overflow": null,
            "overflow_x": null,
            "overflow_y": null,
            "padding": null,
            "right": null,
            "top": null,
            "visibility": null,
            "width": null
          }
        },
        "49f595b3a4ac47a1b30a92bc0f8499fe": {
          "model_module": "@jupyter-widgets/base",
          "model_module_version": "1.2.0",
          "model_name": "LayoutModel",
          "state": {
            "_model_module": "@jupyter-widgets/base",
            "_model_module_version": "1.2.0",
            "_model_name": "LayoutModel",
            "_view_count": null,
            "_view_module": "@jupyter-widgets/base",
            "_view_module_version": "1.2.0",
            "_view_name": "LayoutView",
            "align_content": null,
            "align_items": null,
            "align_self": null,
            "border": null,
            "bottom": null,
            "display": null,
            "flex": null,
            "flex_flow": null,
            "grid_area": null,
            "grid_auto_columns": null,
            "grid_auto_flow": null,
            "grid_auto_rows": null,
            "grid_column": null,
            "grid_gap": null,
            "grid_row": null,
            "grid_template_areas": null,
            "grid_template_columns": null,
            "grid_template_rows": null,
            "height": null,
            "justify_content": null,
            "justify_items": null,
            "left": null,
            "margin": null,
            "max_height": null,
            "max_width": null,
            "min_height": null,
            "min_width": null,
            "object_fit": null,
            "object_position": null,
            "order": null,
            "overflow": null,
            "overflow_x": null,
            "overflow_y": null,
            "padding": null,
            "right": null,
            "top": null,
            "visibility": null,
            "width": null
          }
        },
        "573d4115871448719c7fea919df02f50": {
          "model_module": "@jupyter-widgets/controls",
          "model_module_version": "1.5.0",
          "model_name": "DescriptionStyleModel",
          "state": {
            "_model_module": "@jupyter-widgets/controls",
            "_model_module_version": "1.5.0",
            "_model_name": "DescriptionStyleModel",
            "_view_count": null,
            "_view_module": "@jupyter-widgets/base",
            "_view_module_version": "1.2.0",
            "_view_name": "StyleView",
            "description_width": ""
          }
        },
        "5ccbb7d3277c40f884918f383330fcf6": {
          "model_module": "@jupyter-widgets/controls",
          "model_module_version": "1.5.0",
          "model_name": "ProgressStyleModel",
          "state": {
            "_model_module": "@jupyter-widgets/controls",
            "_model_module_version": "1.5.0",
            "_model_name": "ProgressStyleModel",
            "_view_count": null,
            "_view_module": "@jupyter-widgets/base",
            "_view_module_version": "1.2.0",
            "_view_name": "StyleView",
            "bar_color": null,
            "description_width": ""
          }
        },
        "5ecfdc446efa41978d641094c0661911": {
          "model_module": "@jupyter-widgets/base",
          "model_module_version": "1.2.0",
          "model_name": "LayoutModel",
          "state": {
            "_model_module": "@jupyter-widgets/base",
            "_model_module_version": "1.2.0",
            "_model_name": "LayoutModel",
            "_view_count": null,
            "_view_module": "@jupyter-widgets/base",
            "_view_module_version": "1.2.0",
            "_view_name": "LayoutView",
            "align_content": null,
            "align_items": null,
            "align_self": null,
            "border": null,
            "bottom": null,
            "display": null,
            "flex": null,
            "flex_flow": null,
            "grid_area": null,
            "grid_auto_columns": null,
            "grid_auto_flow": null,
            "grid_auto_rows": null,
            "grid_column": null,
            "grid_gap": null,
            "grid_row": null,
            "grid_template_areas": null,
            "grid_template_columns": null,
            "grid_template_rows": null,
            "height": null,
            "justify_content": null,
            "justify_items": null,
            "left": null,
            "margin": null,
            "max_height": null,
            "max_width": null,
            "min_height": null,
            "min_width": null,
            "object_fit": null,
            "object_position": null,
            "order": null,
            "overflow": null,
            "overflow_x": null,
            "overflow_y": null,
            "padding": null,
            "right": null,
            "top": null,
            "visibility": null,
            "width": null
          }
        },
        "6096e5b6f48c409d86ae1b5e27817602": {
          "model_module": "@jupyter-widgets/base",
          "model_module_version": "1.2.0",
          "model_name": "LayoutModel",
          "state": {
            "_model_module": "@jupyter-widgets/base",
            "_model_module_version": "1.2.0",
            "_model_name": "LayoutModel",
            "_view_count": null,
            "_view_module": "@jupyter-widgets/base",
            "_view_module_version": "1.2.0",
            "_view_name": "LayoutView",
            "align_content": null,
            "align_items": null,
            "align_self": null,
            "border": null,
            "bottom": null,
            "display": null,
            "flex": null,
            "flex_flow": null,
            "grid_area": null,
            "grid_auto_columns": null,
            "grid_auto_flow": null,
            "grid_auto_rows": null,
            "grid_column": null,
            "grid_gap": null,
            "grid_row": null,
            "grid_template_areas": null,
            "grid_template_columns": null,
            "grid_template_rows": null,
            "height": null,
            "justify_content": null,
            "justify_items": null,
            "left": null,
            "margin": null,
            "max_height": null,
            "max_width": null,
            "min_height": null,
            "min_width": null,
            "object_fit": null,
            "object_position": null,
            "order": null,
            "overflow": null,
            "overflow_x": null,
            "overflow_y": null,
            "padding": null,
            "right": null,
            "top": null,
            "visibility": null,
            "width": null
          }
        },
        "614469d9b7ef4004b8ad852bc73589cb": {
          "model_module": "@jupyter-widgets/base",
          "model_module_version": "1.2.0",
          "model_name": "LayoutModel",
          "state": {
            "_model_module": "@jupyter-widgets/base",
            "_model_module_version": "1.2.0",
            "_model_name": "LayoutModel",
            "_view_count": null,
            "_view_module": "@jupyter-widgets/base",
            "_view_module_version": "1.2.0",
            "_view_name": "LayoutView",
            "align_content": null,
            "align_items": null,
            "align_self": null,
            "border": null,
            "bottom": null,
            "display": null,
            "flex": null,
            "flex_flow": null,
            "grid_area": null,
            "grid_auto_columns": null,
            "grid_auto_flow": null,
            "grid_auto_rows": null,
            "grid_column": null,
            "grid_gap": null,
            "grid_row": null,
            "grid_template_areas": null,
            "grid_template_columns": null,
            "grid_template_rows": null,
            "height": null,
            "justify_content": null,
            "justify_items": null,
            "left": null,
            "margin": null,
            "max_height": null,
            "max_width": null,
            "min_height": null,
            "min_width": null,
            "object_fit": null,
            "object_position": null,
            "order": null,
            "overflow": null,
            "overflow_x": null,
            "overflow_y": null,
            "padding": null,
            "right": null,
            "top": null,
            "visibility": null,
            "width": null
          }
        },
        "6344ea1aa87a418fa65ff4c79ee01c80": {
          "model_module": "@jupyter-widgets/controls",
          "model_module_version": "1.5.0",
          "model_name": "DescriptionStyleModel",
          "state": {
            "_model_module": "@jupyter-widgets/controls",
            "_model_module_version": "1.5.0",
            "_model_name": "DescriptionStyleModel",
            "_view_count": null,
            "_view_module": "@jupyter-widgets/base",
            "_view_module_version": "1.2.0",
            "_view_name": "StyleView",
            "description_width": ""
          }
        },
        "638f718bc20d4c6ea262aa370d6f2379": {
          "model_module": "@jupyter-widgets/controls",
          "model_module_version": "1.5.0",
          "model_name": "HTMLModel",
          "state": {
            "_dom_classes": [],
            "_model_module": "@jupyter-widgets/controls",
            "_model_module_version": "1.5.0",
            "_model_name": "HTMLModel",
            "_view_count": null,
            "_view_module": "@jupyter-widgets/controls",
            "_view_module_version": "1.5.0",
            "_view_name": "HTMLView",
            "description": "",
            "description_tooltip": null,
            "layout": "IPY_MODEL_72d22ca3f1024807ab2b00d45b856942",
            "placeholder": "​",
            "style": "IPY_MODEL_167454253c3846b4b895a74434522d5a",
            "value": " 1/1 [00:00&lt;00:00,  4.79 splits/s]"
          }
        },
        "65f20160f0ac439f8c099c407c5b208b": {
          "model_module": "@jupyter-widgets/controls",
          "model_module_version": "1.5.0",
          "model_name": "HTMLModel",
          "state": {
            "_dom_classes": [],
            "_model_module": "@jupyter-widgets/controls",
            "_model_module_version": "1.5.0",
            "_model_name": "HTMLModel",
            "_view_count": null,
            "_view_module": "@jupyter-widgets/controls",
            "_view_module_version": "1.5.0",
            "_view_name": "HTMLView",
            "description": "",
            "description_tooltip": null,
            "layout": "IPY_MODEL_265872ab42f9446cb40cb0a6bc27cac1",
            "placeholder": "​",
            "style": "IPY_MODEL_0576887a2ed444a1ba64cee303f365b2",
            "value": "Dl Size...: "
          }
        },
        "69a592c543974e179caa87fde57071ae": {
          "model_module": "@jupyter-widgets/base",
          "model_module_version": "1.2.0",
          "model_name": "LayoutModel",
          "state": {
            "_model_module": "@jupyter-widgets/base",
            "_model_module_version": "1.2.0",
            "_model_name": "LayoutModel",
            "_view_count": null,
            "_view_module": "@jupyter-widgets/base",
            "_view_module_version": "1.2.0",
            "_view_name": "LayoutView",
            "align_content": null,
            "align_items": null,
            "align_self": null,
            "border": null,
            "bottom": null,
            "display": null,
            "flex": null,
            "flex_flow": null,
            "grid_area": null,
            "grid_auto_columns": null,
            "grid_auto_flow": null,
            "grid_auto_rows": null,
            "grid_column": null,
            "grid_gap": null,
            "grid_row": null,
            "grid_template_areas": null,
            "grid_template_columns": null,
            "grid_template_rows": null,
            "height": null,
            "justify_content": null,
            "justify_items": null,
            "left": null,
            "margin": null,
            "max_height": null,
            "max_width": null,
            "min_height": null,
            "min_width": null,
            "object_fit": null,
            "object_position": null,
            "order": null,
            "overflow": null,
            "overflow_x": null,
            "overflow_y": null,
            "padding": null,
            "right": null,
            "top": null,
            "visibility": null,
            "width": null
          }
        },
        "70d4ad3fc3de4c7eb67d2647f409a5a9": {
          "model_module": "@jupyter-widgets/controls",
          "model_module_version": "1.5.0",
          "model_name": "HBoxModel",
          "state": {
            "_dom_classes": [],
            "_model_module": "@jupyter-widgets/controls",
            "_model_module_version": "1.5.0",
            "_model_name": "HBoxModel",
            "_view_count": null,
            "_view_module": "@jupyter-widgets/controls",
            "_view_module_version": "1.5.0",
            "_view_name": "HBoxView",
            "box_style": "",
            "children": [
              "IPY_MODEL_b431b29b9fae4269921f50d0586b8f25",
              "IPY_MODEL_bc3f6e8b660d4b7ba34f194b2c0930b7",
              "IPY_MODEL_638f718bc20d4c6ea262aa370d6f2379"
            ],
            "layout": "IPY_MODEL_2124669f90614ea3b17b0d0d56f29ee5"
          }
        },
        "7171783206524698b8c55ac1706df640": {
          "model_module": "@jupyter-widgets/base",
          "model_module_version": "1.2.0",
          "model_name": "LayoutModel",
          "state": {
            "_model_module": "@jupyter-widgets/base",
            "_model_module_version": "1.2.0",
            "_model_name": "LayoutModel",
            "_view_count": null,
            "_view_module": "@jupyter-widgets/base",
            "_view_module_version": "1.2.0",
            "_view_name": "LayoutView",
            "align_content": null,
            "align_items": null,
            "align_self": null,
            "border": null,
            "bottom": null,
            "display": null,
            "flex": null,
            "flex_flow": null,
            "grid_area": null,
            "grid_auto_columns": null,
            "grid_auto_flow": null,
            "grid_auto_rows": null,
            "grid_column": null,
            "grid_gap": null,
            "grid_row": null,
            "grid_template_areas": null,
            "grid_template_columns": null,
            "grid_template_rows": null,
            "height": null,
            "justify_content": null,
            "justify_items": null,
            "left": null,
            "margin": null,
            "max_height": null,
            "max_width": null,
            "min_height": null,
            "min_width": null,
            "object_fit": null,
            "object_position": null,
            "order": null,
            "overflow": null,
            "overflow_x": null,
            "overflow_y": null,
            "padding": null,
            "right": null,
            "top": null,
            "visibility": null,
            "width": null
          }
        },
        "72d22ca3f1024807ab2b00d45b856942": {
          "model_module": "@jupyter-widgets/base",
          "model_module_version": "1.2.0",
          "model_name": "LayoutModel",
          "state": {
            "_model_module": "@jupyter-widgets/base",
            "_model_module_version": "1.2.0",
            "_model_name": "LayoutModel",
            "_view_count": null,
            "_view_module": "@jupyter-widgets/base",
            "_view_module_version": "1.2.0",
            "_view_name": "LayoutView",
            "align_content": null,
            "align_items": null,
            "align_self": null,
            "border": null,
            "bottom": null,
            "display": null,
            "flex": null,
            "flex_flow": null,
            "grid_area": null,
            "grid_auto_columns": null,
            "grid_auto_flow": null,
            "grid_auto_rows": null,
            "grid_column": null,
            "grid_gap": null,
            "grid_row": null,
            "grid_template_areas": null,
            "grid_template_columns": null,
            "grid_template_rows": null,
            "height": null,
            "justify_content": null,
            "justify_items": null,
            "left": null,
            "margin": null,
            "max_height": null,
            "max_width": null,
            "min_height": null,
            "min_width": null,
            "object_fit": null,
            "object_position": null,
            "order": null,
            "overflow": null,
            "overflow_x": null,
            "overflow_y": null,
            "padding": null,
            "right": null,
            "top": null,
            "visibility": null,
            "width": null
          }
        },
        "74fd4922308442b3a52b4ad1387899b8": {
          "model_module": "@jupyter-widgets/base",
          "model_module_version": "1.2.0",
          "model_name": "LayoutModel",
          "state": {
            "_model_module": "@jupyter-widgets/base",
            "_model_module_version": "1.2.0",
            "_model_name": "LayoutModel",
            "_view_count": null,
            "_view_module": "@jupyter-widgets/base",
            "_view_module_version": "1.2.0",
            "_view_name": "LayoutView",
            "align_content": null,
            "align_items": null,
            "align_self": null,
            "border": null,
            "bottom": null,
            "display": null,
            "flex": null,
            "flex_flow": null,
            "grid_area": null,
            "grid_auto_columns": null,
            "grid_auto_flow": null,
            "grid_auto_rows": null,
            "grid_column": null,
            "grid_gap": null,
            "grid_row": null,
            "grid_template_areas": null,
            "grid_template_columns": null,
            "grid_template_rows": null,
            "height": null,
            "justify_content": null,
            "justify_items": null,
            "left": null,
            "margin": null,
            "max_height": null,
            "max_width": null,
            "min_height": null,
            "min_width": null,
            "object_fit": null,
            "object_position": null,
            "order": null,
            "overflow": null,
            "overflow_x": null,
            "overflow_y": null,
            "padding": null,
            "right": null,
            "top": null,
            "visibility": null,
            "width": null
          }
        },
        "7e2c9ab6033e4c5298c7ab43280fc78c": {
          "model_module": "@jupyter-widgets/controls",
          "model_module_version": "1.5.0",
          "model_name": "DescriptionStyleModel",
          "state": {
            "_model_module": "@jupyter-widgets/controls",
            "_model_module_version": "1.5.0",
            "_model_name": "DescriptionStyleModel",
            "_view_count": null,
            "_view_module": "@jupyter-widgets/base",
            "_view_module_version": "1.2.0",
            "_view_name": "StyleView",
            "description_width": ""
          }
        },
        "8ade01f26f964e61b918e3c29c712c66": {
          "model_module": "@jupyter-widgets/controls",
          "model_module_version": "1.5.0",
          "model_name": "ProgressStyleModel",
          "state": {
            "_model_module": "@jupyter-widgets/controls",
            "_model_module_version": "1.5.0",
            "_model_name": "ProgressStyleModel",
            "_view_count": null,
            "_view_module": "@jupyter-widgets/base",
            "_view_module_version": "1.2.0",
            "_view_name": "StyleView",
            "bar_color": null,
            "description_width": ""
          }
        },
        "8e26e8d6d63a44bfb305b1caca73b1e1": {
          "model_module": "@jupyter-widgets/base",
          "model_module_version": "1.2.0",
          "model_name": "LayoutModel",
          "state": {
            "_model_module": "@jupyter-widgets/base",
            "_model_module_version": "1.2.0",
            "_model_name": "LayoutModel",
            "_view_count": null,
            "_view_module": "@jupyter-widgets/base",
            "_view_module_version": "1.2.0",
            "_view_name": "LayoutView",
            "align_content": null,
            "align_items": null,
            "align_self": null,
            "border": null,
            "bottom": null,
            "display": null,
            "flex": null,
            "flex_flow": null,
            "grid_area": null,
            "grid_auto_columns": null,
            "grid_auto_flow": null,
            "grid_auto_rows": null,
            "grid_column": null,
            "grid_gap": null,
            "grid_row": null,
            "grid_template_areas": null,
            "grid_template_columns": null,
            "grid_template_rows": null,
            "height": null,
            "justify_content": null,
            "justify_items": null,
            "left": null,
            "margin": null,
            "max_height": null,
            "max_width": null,
            "min_height": null,
            "min_width": null,
            "object_fit": null,
            "object_position": null,
            "order": null,
            "overflow": null,
            "overflow_x": null,
            "overflow_y": null,
            "padding": null,
            "right": null,
            "top": null,
            "visibility": "hidden",
            "width": null
          }
        },
        "9ab59e413b664210b94f456b693e028f": {
          "model_module": "@jupyter-widgets/controls",
          "model_module_version": "1.5.0",
          "model_name": "HTMLModel",
          "state": {
            "_dom_classes": [],
            "_model_module": "@jupyter-widgets/controls",
            "_model_module_version": "1.5.0",
            "_model_name": "HTMLModel",
            "_view_count": null,
            "_view_module": "@jupyter-widgets/controls",
            "_view_module_version": "1.5.0",
            "_view_name": "HTMLView",
            "description": "",
            "description_tooltip": null,
            "layout": "IPY_MODEL_74fd4922308442b3a52b4ad1387899b8",
            "placeholder": "​",
            "style": "IPY_MODEL_573d4115871448719c7fea919df02f50",
            "value": " 0/0 [00:00&lt;?, ? MiB/s]"
          }
        },
        "9fc1c335bd7c4dc1bc90ea80ad40baf3": {
          "model_module": "@jupyter-widgets/controls",
          "model_module_version": "1.5.0",
          "model_name": "HTMLModel",
          "state": {
            "_dom_classes": [],
            "_model_module": "@jupyter-widgets/controls",
            "_model_module_version": "1.5.0",
            "_model_name": "HTMLModel",
            "_view_count": null,
            "_view_module": "@jupyter-widgets/controls",
            "_view_module_version": "1.5.0",
            "_view_name": "HTMLView",
            "description": "",
            "description_tooltip": null,
            "layout": "IPY_MODEL_7171783206524698b8c55ac1706df640",
            "placeholder": "​",
            "style": "IPY_MODEL_14a10596670f480fb95211480aeaa14c",
            "value": "Shuffling ~/tensorflow_datasets/iris/2.0.0.incompleteV0L864/iris-train.tfrecord*...:   0%"
          }
        },
        "a5b13bd86d0549d5b44b6ccfec93c16c": {
          "model_module": "@jupyter-widgets/base",
          "model_module_version": "1.2.0",
          "model_name": "LayoutModel",
          "state": {
            "_model_module": "@jupyter-widgets/base",
            "_model_module_version": "1.2.0",
            "_model_name": "LayoutModel",
            "_view_count": null,
            "_view_module": "@jupyter-widgets/base",
            "_view_module_version": "1.2.0",
            "_view_name": "LayoutView",
            "align_content": null,
            "align_items": null,
            "align_self": null,
            "border": null,
            "bottom": null,
            "display": null,
            "flex": null,
            "flex_flow": null,
            "grid_area": null,
            "grid_auto_columns": null,
            "grid_auto_flow": null,
            "grid_auto_rows": null,
            "grid_column": null,
            "grid_gap": null,
            "grid_row": null,
            "grid_template_areas": null,
            "grid_template_columns": null,
            "grid_template_rows": null,
            "height": null,
            "justify_content": null,
            "justify_items": null,
            "left": null,
            "margin": null,
            "max_height": null,
            "max_width": null,
            "min_height": null,
            "min_width": null,
            "object_fit": null,
            "object_position": null,
            "order": null,
            "overflow": null,
            "overflow_x": null,
            "overflow_y": null,
            "padding": null,
            "right": null,
            "top": null,
            "visibility": null,
            "width": null
          }
        },
        "acefe11499aa48fe8af635e9bc486733": {
          "model_module": "@jupyter-widgets/controls",
          "model_module_version": "1.5.0",
          "model_name": "HTMLModel",
          "state": {
            "_dom_classes": [],
            "_model_module": "@jupyter-widgets/controls",
            "_model_module_version": "1.5.0",
            "_model_name": "HTMLModel",
            "_view_count": null,
            "_view_module": "@jupyter-widgets/controls",
            "_view_module_version": "1.5.0",
            "_view_name": "HTMLView",
            "description": "",
            "description_tooltip": null,
            "layout": "IPY_MODEL_2f99649dbc92481bb46d6a7a5437f928",
            "placeholder": "​",
            "style": "IPY_MODEL_1ee106674a074179a1a3076514c29506",
            "value": "Dl Completed...: 100%"
          }
        },
        "ae592548ebdf41a2a54e10d3afcfd671": {
          "model_module": "@jupyter-widgets/base",
          "model_module_version": "1.2.0",
          "model_name": "LayoutModel",
          "state": {
            "_model_module": "@jupyter-widgets/base",
            "_model_module_version": "1.2.0",
            "_model_name": "LayoutModel",
            "_view_count": null,
            "_view_module": "@jupyter-widgets/base",
            "_view_module_version": "1.2.0",
            "_view_name": "LayoutView",
            "align_content": null,
            "align_items": null,
            "align_self": null,
            "border": null,
            "bottom": null,
            "display": null,
            "flex": null,
            "flex_flow": null,
            "grid_area": null,
            "grid_auto_columns": null,
            "grid_auto_flow": null,
            "grid_auto_rows": null,
            "grid_column": null,
            "grid_gap": null,
            "grid_row": null,
            "grid_template_areas": null,
            "grid_template_columns": null,
            "grid_template_rows": null,
            "height": null,
            "justify_content": null,
            "justify_items": null,
            "left": null,
            "margin": null,
            "max_height": null,
            "max_width": null,
            "min_height": null,
            "min_width": null,
            "object_fit": null,
            "object_position": null,
            "order": null,
            "overflow": null,
            "overflow_x": null,
            "overflow_y": null,
            "padding": null,
            "right": null,
            "top": null,
            "visibility": "hidden",
            "width": null
          }
        },
        "b219dfe5b31f4a9c9a20c52c7a231c08": {
          "model_module": "@jupyter-widgets/base",
          "model_module_version": "1.2.0",
          "model_name": "LayoutModel",
          "state": {
            "_model_module": "@jupyter-widgets/base",
            "_model_module_version": "1.2.0",
            "_model_name": "LayoutModel",
            "_view_count": null,
            "_view_module": "@jupyter-widgets/base",
            "_view_module_version": "1.2.0",
            "_view_name": "LayoutView",
            "align_content": null,
            "align_items": null,
            "align_self": null,
            "border": null,
            "bottom": null,
            "display": null,
            "flex": null,
            "flex_flow": null,
            "grid_area": null,
            "grid_auto_columns": null,
            "grid_auto_flow": null,
            "grid_auto_rows": null,
            "grid_column": null,
            "grid_gap": null,
            "grid_row": null,
            "grid_template_areas": null,
            "grid_template_columns": null,
            "grid_template_rows": null,
            "height": null,
            "justify_content": null,
            "justify_items": null,
            "left": null,
            "margin": null,
            "max_height": null,
            "max_width": null,
            "min_height": null,
            "min_width": null,
            "object_fit": null,
            "object_position": null,
            "order": null,
            "overflow": null,
            "overflow_x": null,
            "overflow_y": null,
            "padding": null,
            "right": null,
            "top": null,
            "visibility": null,
            "width": null
          }
        },
        "b431b29b9fae4269921f50d0586b8f25": {
          "model_module": "@jupyter-widgets/controls",
          "model_module_version": "1.5.0",
          "model_name": "HTMLModel",
          "state": {
            "_dom_classes": [],
            "_model_module": "@jupyter-widgets/controls",
            "_model_module_version": "1.5.0",
            "_model_name": "HTMLModel",
            "_view_count": null,
            "_view_module": "@jupyter-widgets/controls",
            "_view_module_version": "1.5.0",
            "_view_name": "HTMLView",
            "description": "",
            "description_tooltip": null,
            "layout": "IPY_MODEL_69a592c543974e179caa87fde57071ae",
            "placeholder": "​",
            "style": "IPY_MODEL_c06da8dfd74e4cb1a4cdf8839fcc5151",
            "value": "Generating splits...: 100%"
          }
        },
        "bc3f6e8b660d4b7ba34f194b2c0930b7": {
          "model_module": "@jupyter-widgets/controls",
          "model_module_version": "1.5.0",
          "model_name": "FloatProgressModel",
          "state": {
            "_dom_classes": [],
            "_model_module": "@jupyter-widgets/controls",
            "_model_module_version": "1.5.0",
            "_model_name": "FloatProgressModel",
            "_view_count": null,
            "_view_module": "@jupyter-widgets/controls",
            "_view_module_version": "1.5.0",
            "_view_name": "ProgressView",
            "bar_style": "",
            "description": "",
            "description_tooltip": null,
            "layout": "IPY_MODEL_b219dfe5b31f4a9c9a20c52c7a231c08",
            "max": 1,
            "min": 0,
            "orientation": "horizontal",
            "style": "IPY_MODEL_8ade01f26f964e61b918e3c29c712c66",
            "value": 1
          }
        },
        "bf778b6789714f7d9fa2f18f4556a56d": {
          "model_module": "@jupyter-widgets/controls",
          "model_module_version": "1.5.0",
          "model_name": "ProgressStyleModel",
          "state": {
            "_model_module": "@jupyter-widgets/controls",
            "_model_module_version": "1.5.0",
            "_model_name": "ProgressStyleModel",
            "_view_count": null,
            "_view_module": "@jupyter-widgets/base",
            "_view_module_version": "1.2.0",
            "_view_name": "StyleView",
            "bar_color": null,
            "description_width": ""
          }
        },
        "c06da8dfd74e4cb1a4cdf8839fcc5151": {
          "model_module": "@jupyter-widgets/controls",
          "model_module_version": "1.5.0",
          "model_name": "DescriptionStyleModel",
          "state": {
            "_model_module": "@jupyter-widgets/controls",
            "_model_module_version": "1.5.0",
            "_model_name": "DescriptionStyleModel",
            "_view_count": null,
            "_view_module": "@jupyter-widgets/base",
            "_view_module_version": "1.2.0",
            "_view_name": "StyleView",
            "description_width": ""
          }
        },
        "c18f463a693847a7a666d1522953e05d": {
          "model_module": "@jupyter-widgets/base",
          "model_module_version": "1.2.0",
          "model_name": "LayoutModel",
          "state": {
            "_model_module": "@jupyter-widgets/base",
            "_model_module_version": "1.2.0",
            "_model_name": "LayoutModel",
            "_view_count": null,
            "_view_module": "@jupyter-widgets/base",
            "_view_module_version": "1.2.0",
            "_view_name": "LayoutView",
            "align_content": null,
            "align_items": null,
            "align_self": null,
            "border": null,
            "bottom": null,
            "display": null,
            "flex": null,
            "flex_flow": null,
            "grid_area": null,
            "grid_auto_columns": null,
            "grid_auto_flow": null,
            "grid_auto_rows": null,
            "grid_column": null,
            "grid_gap": null,
            "grid_row": null,
            "grid_template_areas": null,
            "grid_template_columns": null,
            "grid_template_rows": null,
            "height": null,
            "justify_content": null,
            "justify_items": null,
            "left": null,
            "margin": null,
            "max_height": null,
            "max_width": null,
            "min_height": null,
            "min_width": null,
            "object_fit": null,
            "object_position": null,
            "order": null,
            "overflow": null,
            "overflow_x": null,
            "overflow_y": null,
            "padding": null,
            "right": null,
            "top": null,
            "visibility": null,
            "width": "20px"
          }
        },
        "c191b0f9bbe143278a1194a6adcbeae1": {
          "model_module": "@jupyter-widgets/controls",
          "model_module_version": "1.5.0",
          "model_name": "HTMLModel",
          "state": {
            "_dom_classes": [],
            "_model_module": "@jupyter-widgets/controls",
            "_model_module_version": "1.5.0",
            "_model_name": "HTMLModel",
            "_view_count": null,
            "_view_module": "@jupyter-widgets/controls",
            "_view_module_version": "1.5.0",
            "_view_name": "HTMLView",
            "description": "",
            "description_tooltip": null,
            "layout": "IPY_MODEL_a5b13bd86d0549d5b44b6ccfec93c16c",
            "placeholder": "​",
            "style": "IPY_MODEL_c3eb554120a4480ebdb52fb6aec99d5b",
            "value": " 0/150 [00:00&lt;?, ? examples/s]"
          }
        },
        "c3eb554120a4480ebdb52fb6aec99d5b": {
          "model_module": "@jupyter-widgets/controls",
          "model_module_version": "1.5.0",
          "model_name": "DescriptionStyleModel",
          "state": {
            "_model_module": "@jupyter-widgets/controls",
            "_model_module_version": "1.5.0",
            "_model_name": "DescriptionStyleModel",
            "_view_count": null,
            "_view_module": "@jupyter-widgets/base",
            "_view_module_version": "1.2.0",
            "_view_name": "StyleView",
            "description_width": ""
          }
        },
        "c43ec480c18348269ec422a10263cf6d": {
          "model_module": "@jupyter-widgets/controls",
          "model_module_version": "1.5.0",
          "model_name": "HTMLModel",
          "state": {
            "_dom_classes": [],
            "_model_module": "@jupyter-widgets/controls",
            "_model_module_version": "1.5.0",
            "_model_name": "HTMLModel",
            "_view_count": null,
            "_view_module": "@jupyter-widgets/controls",
            "_view_module_version": "1.5.0",
            "_view_name": "HTMLView",
            "description": "",
            "description_tooltip": null,
            "layout": "IPY_MODEL_614469d9b7ef4004b8ad852bc73589cb",
            "placeholder": "​",
            "style": "IPY_MODEL_138ddb274951469083a6e39f377b5093",
            "value": " 0/150 [00:00&lt;?, ? examples/s]"
          }
        },
        "c849aa025eab48d6bdcb8dc611ba38b1": {
          "model_module": "@jupyter-widgets/controls",
          "model_module_version": "1.5.0",
          "model_name": "FloatProgressModel",
          "state": {
            "_dom_classes": [],
            "_model_module": "@jupyter-widgets/controls",
            "_model_module_version": "1.5.0",
            "_model_name": "FloatProgressModel",
            "_view_count": null,
            "_view_module": "@jupyter-widgets/controls",
            "_view_module_version": "1.5.0",
            "_view_name": "ProgressView",
            "bar_style": "",
            "description": "",
            "description_tooltip": null,
            "layout": "IPY_MODEL_dba0cd5855bf431280291c8becd41bc1",
            "max": 150,
            "min": 0,
            "orientation": "horizontal",
            "style": "IPY_MODEL_bf778b6789714f7d9fa2f18f4556a56d",
            "value": 150
          }
        },
        "cf5414af35fe44c988653c425da45a25": {
          "model_module": "@jupyter-widgets/controls",
          "model_module_version": "1.5.0",
          "model_name": "ProgressStyleModel",
          "state": {
            "_model_module": "@jupyter-widgets/controls",
            "_model_module_version": "1.5.0",
            "_model_name": "ProgressStyleModel",
            "_view_count": null,
            "_view_module": "@jupyter-widgets/base",
            "_view_module_version": "1.2.0",
            "_view_name": "StyleView",
            "bar_color": null,
            "description_width": ""
          }
        },
        "cf92f1241b7c485785d9f74cb94901f0": {
          "model_module": "@jupyter-widgets/controls",
          "model_module_version": "1.5.0",
          "model_name": "FloatProgressModel",
          "state": {
            "_dom_classes": [],
            "_model_module": "@jupyter-widgets/controls",
            "_model_module_version": "1.5.0",
            "_model_name": "FloatProgressModel",
            "_view_count": null,
            "_view_module": "@jupyter-widgets/controls",
            "_view_module_version": "1.5.0",
            "_view_name": "ProgressView",
            "bar_style": "success",
            "description": "",
            "description_tooltip": null,
            "layout": "IPY_MODEL_14a92cefd9c64fef80311cad4366fe5f",
            "max": 1,
            "min": 0,
            "orientation": "horizontal",
            "style": "IPY_MODEL_078ffdb284574e3d985aa2bead35606c",
            "value": 0
          }
        },
        "da9b4e1b26d04d2f89eb55dc2adb8434": {
          "model_module": "@jupyter-widgets/base",
          "model_module_version": "1.2.0",
          "model_name": "LayoutModel",
          "state": {
            "_model_module": "@jupyter-widgets/base",
            "_model_module_version": "1.2.0",
            "_model_name": "LayoutModel",
            "_view_count": null,
            "_view_module": "@jupyter-widgets/base",
            "_view_module_version": "1.2.0",
            "_view_name": "LayoutView",
            "align_content": null,
            "align_items": null,
            "align_self": null,
            "border": null,
            "bottom": null,
            "display": null,
            "flex": null,
            "flex_flow": null,
            "grid_area": null,
            "grid_auto_columns": null,
            "grid_auto_flow": null,
            "grid_auto_rows": null,
            "grid_column": null,
            "grid_gap": null,
            "grid_row": null,
            "grid_template_areas": null,
            "grid_template_columns": null,
            "grid_template_rows": null,
            "height": null,
            "justify_content": null,
            "justify_items": null,
            "left": null,
            "margin": null,
            "max_height": null,
            "max_width": null,
            "min_height": null,
            "min_width": null,
            "object_fit": null,
            "object_position": null,
            "order": null,
            "overflow": null,
            "overflow_x": null,
            "overflow_y": null,
            "padding": null,
            "right": null,
            "top": null,
            "visibility": null,
            "width": null
          }
        },
        "dba0cd5855bf431280291c8becd41bc1": {
          "model_module": "@jupyter-widgets/base",
          "model_module_version": "1.2.0",
          "model_name": "LayoutModel",
          "state": {
            "_model_module": "@jupyter-widgets/base",
            "_model_module_version": "1.2.0",
            "_model_name": "LayoutModel",
            "_view_count": null,
            "_view_module": "@jupyter-widgets/base",
            "_view_module_version": "1.2.0",
            "_view_name": "LayoutView",
            "align_content": null,
            "align_items": null,
            "align_self": null,
            "border": null,
            "bottom": null,
            "display": null,
            "flex": null,
            "flex_flow": null,
            "grid_area": null,
            "grid_auto_columns": null,
            "grid_auto_flow": null,
            "grid_auto_rows": null,
            "grid_column": null,
            "grid_gap": null,
            "grid_row": null,
            "grid_template_areas": null,
            "grid_template_columns": null,
            "grid_template_rows": null,
            "height": null,
            "justify_content": null,
            "justify_items": null,
            "left": null,
            "margin": null,
            "max_height": null,
            "max_width": null,
            "min_height": null,
            "min_width": null,
            "object_fit": null,
            "object_position": null,
            "order": null,
            "overflow": null,
            "overflow_x": null,
            "overflow_y": null,
            "padding": null,
            "right": null,
            "top": null,
            "visibility": null,
            "width": null
          }
        },
        "ef6dcb2734204875bfc1f35bad3615d5": {
          "model_module": "@jupyter-widgets/controls",
          "model_module_version": "1.5.0",
          "model_name": "FloatProgressModel",
          "state": {
            "_dom_classes": [],
            "_model_module": "@jupyter-widgets/controls",
            "_model_module_version": "1.5.0",
            "_model_name": "FloatProgressModel",
            "_view_count": null,
            "_view_module": "@jupyter-widgets/controls",
            "_view_module_version": "1.5.0",
            "_view_name": "ProgressView",
            "bar_style": "success",
            "description": "",
            "description_tooltip": null,
            "layout": "IPY_MODEL_c18f463a693847a7a666d1522953e05d",
            "max": 1,
            "min": 0,
            "orientation": "horizontal",
            "style": "IPY_MODEL_cf5414af35fe44c988653c425da45a25",
            "value": 1
          }
        },
        "f8a561b25ef54f0f9bff2a7d167f1c40": {
          "model_module": "@jupyter-widgets/controls",
          "model_module_version": "1.5.0",
          "model_name": "HBoxModel",
          "state": {
            "_dom_classes": [],
            "_model_module": "@jupyter-widgets/controls",
            "_model_module_version": "1.5.0",
            "_model_name": "HBoxModel",
            "_view_count": null,
            "_view_module": "@jupyter-widgets/controls",
            "_view_module_version": "1.5.0",
            "_view_name": "HBoxView",
            "box_style": "",
            "children": [
              "IPY_MODEL_acefe11499aa48fe8af635e9bc486733",
              "IPY_MODEL_ef6dcb2734204875bfc1f35bad3615d5",
              "IPY_MODEL_474255116eae4346a15e4f924c96b1ac"
            ],
            "layout": "IPY_MODEL_da9b4e1b26d04d2f89eb55dc2adb8434"
          }
        }
      }
    }
  },
  "nbformat": 4,
  "nbformat_minor": 0
}
